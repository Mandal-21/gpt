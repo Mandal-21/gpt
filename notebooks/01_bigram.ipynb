{
 "cells": [
  {
   "cell_type": "code",
   "execution_count": 2,
   "id": "0eddc76a-2cbb-4549-9c54-9b2b8849ae23",
   "metadata": {},
   "outputs": [],
   "source": [
    "BASE_DIR = '/Users/amarmandal/Documents/coding/gpt/'"
   ]
  },
  {
   "cell_type": "code",
   "execution_count": 18,
   "id": "d5798325-0635-4a33-a590-750cae3669f7",
   "metadata": {},
   "outputs": [
    {
     "name": "stdout",
     "output_type": "stream",
     "text": [
      "Device: mps\n"
     ]
    }
   ],
   "source": [
    "import torch\n",
    "import torch.nn as nn\n",
    "from torch.nn import functional as F\n",
    "import numpy as np\n",
    "device = 'mps' if torch.backends.mps.is_available() else 'cpu'\n",
    "print(\"Device:\", device)\n",
    "block_size = 8\n",
    "batch_size = 4"
   ]
  },
  {
   "cell_type": "markdown",
   "id": "0426b9ca-ba57-4442-88c9-9080cb906f85",
   "metadata": {},
   "source": [
    "## Load the data"
   ]
  },
  {
   "cell_type": "code",
   "execution_count": 19,
   "id": "a572334e-0623-4769-9e03-6d588029359c",
   "metadata": {},
   "outputs": [
    {
     "name": "stdout",
     "output_type": "stream",
     "text": [
      "['\\n', ' ', '!', '\"', '&', \"'\", '(', ')', '*', ',', '-', '.', '0', '1', '2', '3', '4', '5', '6', '7', '8', '9', ':', ';', '?', 'A', 'B', 'C', 'D', 'E', 'F', 'G', 'H', 'I', 'J', 'K', 'L', 'M', 'N', 'O', 'P', 'Q', 'R', 'S', 'T', 'U', 'V', 'W', 'X', 'Y', 'Z', '[', ']', '_', 'a', 'b', 'c', 'd', 'e', 'f', 'g', 'h', 'i', 'j', 'k', 'l', 'm', 'n', 'o', 'p', 'q', 'r', 's', 't', 'u', 'v', 'w', 'x', 'y', 'z', '\\ufeff']\n"
     ]
    }
   ],
   "source": [
    "with open(BASE_DIR + \"data/wizard_of_oz.txt\", 'r', encoding='utf-8') as f:\n",
    "    text = f.read()\n",
    "\n",
    "chars = sorted(set(text))\n",
    "print(chars)\n",
    "vocab_size = len(chars)"
   ]
  },
  {
   "cell_type": "markdown",
   "id": "403b0ffc-7404-4cd5-9f5f-65398e845a87",
   "metadata": {},
   "source": [
    "## encode decode characters"
   ]
  },
  {
   "cell_type": "code",
   "execution_count": 49,
   "id": "b4095449-ace8-4d10-9ba5-6b3bfe23a931",
   "metadata": {},
   "outputs": [
    {
     "data": {
      "text/plain": [
       "([2, 71], '!r')"
      ]
     },
     "execution_count": 49,
     "metadata": {},
     "output_type": "execute_result"
    }
   ],
   "source": [
    "string_to_int = {ch:i for i, ch in enumerate(chars)}\n",
    "int_to_string = {i:ch for i, ch in enumerate(chars)}\n",
    "encode = lambda s: [string_to_int[c] for c in s]\n",
    "decode = lambda l: ''.join([int_to_string[i] for i in l])\n",
    "\n",
    "encoded_hello = encode(\"!r\")\n",
    "decoded_hello = decode(encoded_hello)\n",
    "encoded_hello, decoded_hello"
   ]
  },
  {
   "cell_type": "markdown",
   "id": "c6a3f1da-9b41-4dc6-bae4-a9cc026b9299",
   "metadata": {},
   "source": [
    "## Convert text to tensors"
   ]
  },
  {
   "cell_type": "code",
   "execution_count": 21,
   "id": "c664d74d-c09f-4a94-852e-19f0b4d8f7dc",
   "metadata": {},
   "outputs": [
    {
     "name": "stdout",
     "output_type": "stream",
     "text": [
      "tensor([80,  1,  1, 28, 39, 42, 39, 44, 32, 49,  1, 25, 38, 28,  1, 44, 32, 29,\n",
      "         1, 47, 33, 50, 25, 42, 28,  1, 33, 38,  1, 39, 50,  0,  0,  1,  1, 26,\n",
      "        49,  0,  0,  1,  1, 36, 11,  1, 30, 42, 25, 38, 35,  1, 26, 25, 45, 37,\n",
      "         0,  0,  1,  1, 25, 45, 44, 32, 39, 42,  1, 39, 30,  1, 44, 32, 29,  1,\n",
      "        47, 33, 50, 25, 42, 28,  1, 39, 30,  1, 39, 50,  9,  1, 44, 32, 29,  1,\n",
      "        36, 25, 38, 28,  1, 39, 30,  1, 39, 50])\n"
     ]
    }
   ],
   "source": [
    "data = torch.tensor(encode(text), dtype=torch.long)\n",
    "print(data[:100])"
   ]
  },
  {
   "cell_type": "markdown",
   "id": "3d81f9b9-33b2-42a6-89ed-a53749a1fef7",
   "metadata": {},
   "source": [
    "## Train Validation split"
   ]
  },
  {
   "cell_type": "code",
   "execution_count": 22,
   "id": "fe90760f-3132-4d11-9e51-77084ce6789c",
   "metadata": {},
   "outputs": [
    {
     "name": "stdout",
     "output_type": "stream",
     "text": [
      "index: tensor([ 97321, 100135,  69381, 173742])\n",
      "inputs:\n",
      "tensor([[ 0,  0,  3, 39, 61,  9,  1, 67],\n",
      "        [61, 58,  1, 64, 62, 67, 57,  1],\n",
      "        [54, 72,  1, 73, 62, 66, 58,  1],\n",
      "        [61, 58, 67,  1, 61, 58,  1, 76]], device='mps:0')\n",
      "targets:\n",
      "tensor([[ 0,  3, 39, 61,  9,  1, 67, 68],\n",
      "        [58,  1, 64, 62, 67, 57,  1, 55],\n",
      "        [72,  1, 73, 62, 66, 58,  1, 59],\n",
      "        [58, 67,  1, 61, 58,  1, 76, 54]], device='mps:0')\n"
     ]
    }
   ],
   "source": [
    "n = int(0.8*len(data))\n",
    "train_data = data[:n]\n",
    "val_data = data[n:]\n",
    "\n",
    "def get_batch(split):\n",
    "    data = train_data if split == 'train' else val_data\n",
    "    ix = torch.randint(len(data) - block_size, (batch_size,))\n",
    "    print(\"index:\", ix)\n",
    "    x = torch.stack([data[i:i+block_size] for i in ix])\n",
    "    y = torch.stack([data[i+1:i+block_size+1] for i in ix])\n",
    "    x, y = x.to(device), y.to(device)\n",
    "    return x,y\n",
    "\n",
    "x, y = get_batch('train')\n",
    "print('inputs:')\n",
    "print(x)\n",
    "print('targets:')\n",
    "print(y)"
   ]
  },
  {
   "cell_type": "markdown",
   "id": "f8fa08cf-74b8-40ab-9ad4-813e1e0442b5",
   "metadata": {},
   "source": [
    "## create input and target label"
   ]
  },
  {
   "cell_type": "code",
   "execution_count": 23,
   "id": "fd19512b-cf1b-43b5-908d-00b9fb1769fc",
   "metadata": {},
   "outputs": [
    {
     "name": "stdout",
     "output_type": "stream",
     "text": [
      "when input is tensor([80]) target is tensor(1)\n",
      "when input is tensor([80,  1]) target is tensor(1)\n",
      "when input is tensor([80,  1,  1]) target is tensor(28)\n",
      "when input is tensor([80,  1,  1, 28]) target is tensor(39)\n",
      "when input is tensor([80,  1,  1, 28, 39]) target is tensor(42)\n",
      "when input is tensor([80,  1,  1, 28, 39, 42]) target is tensor(39)\n",
      "when input is tensor([80,  1,  1, 28, 39, 42, 39]) target is tensor(44)\n",
      "when input is tensor([80,  1,  1, 28, 39, 42, 39, 44]) target is tensor(32)\n"
     ]
    }
   ],
   "source": [
    "x = train_data[:block_size]\n",
    "y = train_data[1:block_size+1]\n",
    "\n",
    "for t in range(block_size):\n",
    "    context = x[:t+1]\n",
    "    target = y[t]\n",
    "    print(\"when input is\", context, \"target is\", target)"
   ]
  },
  {
   "cell_type": "code",
   "execution_count": 24,
   "id": "d89adb02-bf57-48a4-8562-ffe36d010f0f",
   "metadata": {},
   "outputs": [
    {
     "data": {
      "text/plain": [
       "tensor([80,  1,  1, 28, 39, 42, 39, 44, 32, 49,  1, 25, 38, 28,  1, 44, 32, 29,\n",
       "         1, 47, 33, 50, 25, 42, 28,  1, 33, 38,  1, 39])"
      ]
     },
     "execution_count": 24,
     "metadata": {},
     "output_type": "execute_result"
    }
   ],
   "source": [
    "train_data[:30]"
   ]
  },
  {
   "cell_type": "markdown",
   "id": "503e4fe3-c95a-43ae-8582-a4b3a150edec",
   "metadata": {},
   "source": [
    "## create architecture"
   ]
  },
  {
   "cell_type": "code",
   "execution_count": 52,
   "id": "5015ba17-bc20-4d8b-ae26-170bb4a90c74",
   "metadata": {},
   "outputs": [
    {
     "name": "stdout",
     "output_type": "stream",
     "text": [
      " !Vpgz_G7-gmq;Yobj-\n",
      "p(vcdDx*h0lSCrdstc1nQ;GdhAnG5XC F0zMQ&v;5X0s7a?TQH0s0.kTs-xe[w,p-:cUfujh2NeRO)4[JYzBcEBd_hwXhPoCASy]jZ[htyDux(&Be!G3y\"AZJo[;.ELzO_)[HK!sVbqiQ-RzxrJ1L﻿07kNUovzaZ;\";,3[Etei? Zl﻿\"T7PaBwPacce 4!8P\"bpJNY7Xjp\"E3ZnZ;vMg\"fO*h1 N]0BdcGzOziX'D::zgA[act;XK]-R]ft7\n",
      ")SC﻿OE38!ZZv9;YfzO&cWna9z_19GDXa6PucVpMg1DlPubR9-EnR7PQI27L_aCHK:fyYf7]PA16T8b6i0ML\n",
      "c;4﻿9rdiudCuFZExESKnQH,oHcN8BdZDlowCujI!i0HmeXGhLe,[ko.jcVCO&f7PJ)456vrR_zU[\n",
      "UMv2\"kIXJ﻿hB*IB0C\n",
      "(O&BM﻿wA0V;'pg;'b\"CE0o3k&KpdZ'iCNge(5,eaZE]- YEp\";\n"
     ]
    }
   ],
   "source": [
    "class BigramLanguageModel(nn.Module):\n",
    "    def __init__(self, vocab_size):\n",
    "        super().__init__()\n",
    "        self.token_embedding_table = nn.Embedding(vocab_size, vocab_size)\n",
    "\n",
    "    def forward(self, index, targets=None):\n",
    "        logits = self.token_embedding_table(index)\n",
    "\n",
    "        if targets is None:\n",
    "            loss = None\n",
    "        else:\n",
    "            B,T,C = logits.shape\n",
    "            logits = torch.view(B*T, C)\n",
    "            targets = targets.view(B*T)\n",
    "            loss = F.cross_entropy(logits, targets)\n",
    "        return logits, loss\n",
    "\n",
    "\n",
    "    def generate(self, index, max_new_tokens):\n",
    "        # index is (B, T) array of indices in the current context\n",
    "        for _ in range(max_new_tokens):\n",
    "            # get the predictions\n",
    "            logits, loss = self.forward(index)\n",
    "            # focus only on the last time step\n",
    "            logits = logits[:, -1, :] # becomes (B, C)\n",
    "            # apply softmax function to get probabilites\n",
    "            probs = F.softmax(logits, dim=-1) # (B, C)\n",
    "            # sample from the distribution\n",
    "            index_next = torch.multinomial(probs, num_samples=1) # (B, 1)\n",
    "            # append sampled index to the running sequence\n",
    "            index = torch.cat((index, index_next), dim=-1) # (B, T+1)\n",
    "        return index\n",
    "\n",
    "\n",
    "model = BigramLanguageModel(vocab_size)\n",
    "m = model.to(device)\n",
    "\n",
    "context = torch.tensor([[1, 2], [4, 5]], dtype=torch.long, device=device)\n",
    "generated_chars = decode(m.generate(context, max_new_tokens=500)[0].tolist())\n",
    "print(generated_chars)"
   ]
  },
  {
   "cell_type": "code",
   "execution_count": null,
   "id": "1d1365ce-ea69-4087-a5fd-432914470b5f",
   "metadata": {},
   "outputs": [],
   "source": []
  }
 ],
 "metadata": {
  "kernelspec": {
   "display_name": "gpt",
   "language": "python",
   "name": "gpt"
  },
  "language_info": {
   "codemirror_mode": {
    "name": "ipython",
    "version": 3
   },
   "file_extension": ".py",
   "mimetype": "text/x-python",
   "name": "python",
   "nbconvert_exporter": "python",
   "pygments_lexer": "ipython3",
   "version": "3.10.9"
  }
 },
 "nbformat": 4,
 "nbformat_minor": 5
}
