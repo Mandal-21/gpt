{
 "cells": [
  {
   "cell_type": "code",
   "execution_count": 9,
   "id": "0eddc76a-2cbb-4549-9c54-9b2b8849ae23",
   "metadata": {},
   "outputs": [],
   "source": [
    "BASE_DIR = '/Users/amarmandal/Documents/coding/gpt/'"
   ]
  },
  {
   "cell_type": "code",
   "execution_count": 18,
   "id": "d5798325-0635-4a33-a590-750cae3669f7",
   "metadata": {},
   "outputs": [
    {
     "name": "stdout",
     "output_type": "stream",
     "text": [
      "Device: mps\n"
     ]
    }
   ],
   "source": [
    "import torch\n",
    "import torch.nn as nn\n",
    "from torch.nn import functional as F\n",
    "import numpy as np\n",
    "device = 'mps' if torch.backends.mps.is_available() else 'cpu'\n",
    "print(\"Device:\", device)\n",
    "block_size = 8\n",
    "batch_size = 4\n",
    "max_iters = 10000\n",
    "learning_rate = 3e-4"
   ]
  },
  {
   "cell_type": "markdown",
   "id": "0426b9ca-ba57-4442-88c9-9080cb906f85",
   "metadata": {},
   "source": [
    "## Load the data"
   ]
  },
  {
   "cell_type": "code",
   "execution_count": 11,
   "id": "a572334e-0623-4769-9e03-6d588029359c",
   "metadata": {},
   "outputs": [
    {
     "name": "stdout",
     "output_type": "stream",
     "text": [
      "['\\n', ' ', '!', '\"', '&', \"'\", '(', ')', '*', ',', '-', '.', '0', '1', '2', '3', '4', '5', '6', '7', '8', '9', ':', ';', '?', 'A', 'B', 'C', 'D', 'E', 'F', 'G', 'H', 'I', 'J', 'K', 'L', 'M', 'N', 'O', 'P', 'Q', 'R', 'S', 'T', 'U', 'V', 'W', 'X', 'Y', 'Z', '[', ']', '_', 'a', 'b', 'c', 'd', 'e', 'f', 'g', 'h', 'i', 'j', 'k', 'l', 'm', 'n', 'o', 'p', 'q', 'r', 's', 't', 'u', 'v', 'w', 'x', 'y', 'z', '\\ufeff']\n"
     ]
    }
   ],
   "source": [
    "with open(BASE_DIR + \"data/wizard_of_oz.txt\", 'r', encoding='utf-8') as f:\n",
    "    text = f.read()\n",
    "\n",
    "chars = sorted(set(text))\n",
    "print(chars)\n",
    "vocab_size = len(chars)"
   ]
  },
  {
   "cell_type": "markdown",
   "id": "403b0ffc-7404-4cd5-9f5f-65398e845a87",
   "metadata": {},
   "source": [
    "## encode decode characters"
   ]
  },
  {
   "cell_type": "code",
   "execution_count": 12,
   "id": "b4095449-ace8-4d10-9ba5-6b3bfe23a931",
   "metadata": {},
   "outputs": [
    {
     "data": {
      "text/plain": [
       "([2, 71], '!r')"
      ]
     },
     "execution_count": 12,
     "metadata": {},
     "output_type": "execute_result"
    }
   ],
   "source": [
    "string_to_int = {ch:i for i, ch in enumerate(chars)}\n",
    "int_to_string = {i:ch for i, ch in enumerate(chars)}\n",
    "encode = lambda s: [string_to_int[c] for c in s]\n",
    "decode = lambda l: ''.join([int_to_string[i] for i in l])\n",
    "\n",
    "encoded_hello = encode(\"!r\")\n",
    "decoded_hello = decode(encoded_hello)\n",
    "encoded_hello, decoded_hello"
   ]
  },
  {
   "cell_type": "markdown",
   "id": "c6a3f1da-9b41-4dc6-bae4-a9cc026b9299",
   "metadata": {},
   "source": [
    "## Convert text to tensors"
   ]
  },
  {
   "cell_type": "code",
   "execution_count": 13,
   "id": "c664d74d-c09f-4a94-852e-19f0b4d8f7dc",
   "metadata": {},
   "outputs": [
    {
     "name": "stdout",
     "output_type": "stream",
     "text": [
      "tensor([80,  1,  1, 28, 39, 42, 39, 44, 32, 49,  1, 25, 38, 28,  1, 44, 32, 29,\n",
      "         1, 47, 33, 50, 25, 42, 28,  1, 33, 38,  1, 39, 50,  0,  0,  1,  1, 26,\n",
      "        49,  0,  0,  1,  1, 36, 11,  1, 30, 42, 25, 38, 35,  1, 26, 25, 45, 37,\n",
      "         0,  0,  1,  1, 25, 45, 44, 32, 39, 42,  1, 39, 30,  1, 44, 32, 29,  1,\n",
      "        47, 33, 50, 25, 42, 28,  1, 39, 30,  1, 39, 50,  9,  1, 44, 32, 29,  1,\n",
      "        36, 25, 38, 28,  1, 39, 30,  1, 39, 50])\n"
     ]
    }
   ],
   "source": [
    "data = torch.tensor(encode(text), dtype=torch.long)\n",
    "print(data[:100])"
   ]
  },
  {
   "cell_type": "markdown",
   "id": "3d81f9b9-33b2-42a6-89ed-a53749a1fef7",
   "metadata": {},
   "source": [
    "## Train Validation split"
   ]
  },
  {
   "cell_type": "code",
   "execution_count": 22,
   "id": "fe90760f-3132-4d11-9e51-77084ce6789c",
   "metadata": {},
   "outputs": [
    {
     "name": "stdout",
     "output_type": "stream",
     "text": [
      "inputs:\n",
      "tensor([[68, 67,  1, 58, 75, 58, 71, 78],\n",
      "        [58, 71, 76, 54, 71, 57,  3, 24],\n",
      "        [ 9,  1,  3, 54, 67, 57,  1, 66],\n",
      "        [68, 71, 58,  1, 66, 58, 11,  1]], device='mps:0')\n",
      "targets:\n",
      "tensor([[67,  1, 58, 75, 58, 71, 78,  1],\n",
      "        [71, 76, 54, 71, 57,  3, 24,  1],\n",
      "        [ 1,  3, 54, 67, 57,  1, 66, 54],\n",
      "        [71, 58,  1, 66, 58, 11,  1, 33]], device='mps:0')\n"
     ]
    }
   ],
   "source": [
    "n = int(0.8*len(data))\n",
    "train_data = data[:n]\n",
    "val_data = data[n:]\n",
    "\n",
    "def get_batch(split):\n",
    "    data = train_data if split == 'train' else val_data\n",
    "    ix = torch.randint(len(data) - block_size, (batch_size,))\n",
    "    x = torch.stack([data[i:i+block_size] for i in ix])\n",
    "    y = torch.stack([data[i+1:i+block_size+1] for i in ix])\n",
    "    x, y = x.to(device), y.to(device)\n",
    "    return x,y\n",
    "\n",
    "x, y = get_batch('train')\n",
    "print('inputs:')\n",
    "print(x)\n",
    "print('targets:')\n",
    "print(y)"
   ]
  },
  {
   "cell_type": "markdown",
   "id": "f8fa08cf-74b8-40ab-9ad4-813e1e0442b5",
   "metadata": {},
   "source": [
    "## create input and target label"
   ]
  },
  {
   "cell_type": "code",
   "execution_count": 15,
   "id": "fd19512b-cf1b-43b5-908d-00b9fb1769fc",
   "metadata": {},
   "outputs": [
    {
     "name": "stdout",
     "output_type": "stream",
     "text": [
      "when input is tensor([80]) target is tensor(1)\n",
      "when input is tensor([80,  1]) target is tensor(1)\n",
      "when input is tensor([80,  1,  1]) target is tensor(28)\n",
      "when input is tensor([80,  1,  1, 28]) target is tensor(39)\n",
      "when input is tensor([80,  1,  1, 28, 39]) target is tensor(42)\n",
      "when input is tensor([80,  1,  1, 28, 39, 42]) target is tensor(39)\n",
      "when input is tensor([80,  1,  1, 28, 39, 42, 39]) target is tensor(44)\n",
      "when input is tensor([80,  1,  1, 28, 39, 42, 39, 44]) target is tensor(32)\n"
     ]
    }
   ],
   "source": [
    "x = train_data[:block_size]\n",
    "y = train_data[1:block_size+1]\n",
    "\n",
    "for t in range(block_size):\n",
    "    context = x[:t+1]\n",
    "    target = y[t]\n",
    "    print(\"when input is\", context, \"target is\", target)"
   ]
  },
  {
   "cell_type": "code",
   "execution_count": 16,
   "id": "d89adb02-bf57-48a4-8562-ffe36d010f0f",
   "metadata": {},
   "outputs": [
    {
     "data": {
      "text/plain": [
       "tensor([80,  1,  1, 28, 39, 42, 39, 44, 32, 49,  1, 25, 38, 28,  1, 44, 32, 29,\n",
       "         1, 47, 33, 50, 25, 42, 28,  1, 33, 38,  1, 39])"
      ]
     },
     "execution_count": 16,
     "metadata": {},
     "output_type": "execute_result"
    }
   ],
   "source": [
    "train_data[:30]"
   ]
  },
  {
   "cell_type": "markdown",
   "id": "503e4fe3-c95a-43ae-8582-a4b3a150edec",
   "metadata": {},
   "source": [
    "## create architecture"
   ]
  },
  {
   "cell_type": "code",
   "execution_count": 20,
   "id": "5015ba17-bc20-4d8b-ae26-170bb4a90c74",
   "metadata": {},
   "outputs": [
    {
     "name": "stdout",
     "output_type": "stream",
     "text": [
      " !﻿xhmLajqhWoUwTQZxN8W4'bZgPBDdHySN[[wCzOhtkGs1\"Gy_5e.aOsL,XRVLrY!w;ur4jA﻿1v;Kv?o* phk?* \"xPYTpzZ.1GZ(Y,[pMNG)﻿\n",
      "&Z2Hzc3&j\"Z1?8gq&!h]T(1﻿FJYIq5kLlGZ,ZhQX7﻿UK5?3to6 hwzFPQdy13zZggtk﻿e.aNGb0)KdIq'ZeGZi-M2zQ7V!T?DXsrCjqR fTbCX2NNGPfK[SsWs,ne]Y!?D.RF\n",
      "; A 3Ty&﻿xtXLHApwbTyx,ZxjW5.u[7O;bE\n",
      ";KePdU(8OFPECX﻿dt6 ﻿\n",
      "cWasP'M21bSE-jcVWD-?MQj﻿\"Lir0Xs7-!1,8ySekG[cphkp C[!AK6F!p?OXWi,?!bThL3Q4xRPdCh﻿J_sofFqgoXLns(kGe0LN6lFOAD\n",
      "Aliy!A*M?HRrsmjWivfv]LSVcoNZlQcIvj(vlT]s﻿MA93Q)..0)ionN8xWCJN(WCOvo25cNp0y9APV!mIg54o0)9.kBC\n"
     ]
    }
   ],
   "source": [
    "class BigramLanguageModel(nn.Module):\n",
    "    def __init__(self, vocab_size):\n",
    "        super().__init__()\n",
    "        self.token_embedding_table = nn.Embedding(vocab_size, vocab_size)\n",
    "\n",
    "    def forward(self, index, targets=None):\n",
    "        logits = self.token_embedding_table(index)\n",
    "\n",
    "        if targets is None:\n",
    "            loss = None\n",
    "        else:\n",
    "            B,T,C = logits.shape\n",
    "            logits = logits.view(B*T, C)\n",
    "            targets = targets.view(B*T)\n",
    "            loss = F.cross_entropy(logits, targets)\n",
    "        return logits, loss\n",
    "\n",
    "\n",
    "    def generate(self, index, max_new_tokens):\n",
    "        # index is (B, T) array of indices in the current context\n",
    "        for _ in range(max_new_tokens):\n",
    "            # get the predictions\n",
    "            logits, loss = self.forward(index)\n",
    "            # focus only on the last time step\n",
    "            logits = logits[:, -1, :] # becomes (B, C)\n",
    "            # apply softmax function to get probabilites\n",
    "            probs = F.softmax(logits, dim=-1) # (B, C)\n",
    "            # sample from the distribution\n",
    "            index_next = torch.multinomial(probs, num_samples=1) # (B, 1)\n",
    "            # append sampled index to the running sequence\n",
    "            index = torch.cat((index, index_next), dim=-1) # (B, T+1)\n",
    "        return index\n",
    "\n",
    "\n",
    "model = BigramLanguageModel(vocab_size)\n",
    "m = model.to(device)\n",
    "\n",
    "context = torch.tensor([[1, 2], [4, 5]], dtype=torch.long, device=device)\n",
    "generated_chars = decode(m.generate(context, max_new_tokens=500)[0].tolist())\n",
    "print(generated_chars)"
   ]
  },
  {
   "cell_type": "markdown",
   "id": "e2fdf287-093f-4d76-967e-5fd130ddfeaf",
   "metadata": {},
   "source": [
    "## Optimizer"
   ]
  },
  {
   "cell_type": "markdown",
   "id": "dd5775c8-d23d-4f43-ac8e-3f1e9af74bc5",
   "metadata": {},
   "source": [
    "**need to familiarize audience with optimizers (AdamW, Adam, SGD, MSE…) no need to jump into the formulas, just what the optimizer does for us and some of the differences/similarities between them**\n",
    "\n",
    "1. `Mean Squared Error (MSE)`: MSE is a common loss function used in regression problems, where the goal is to predict a continuous output. It measures the average squared difference between the predicted and actual values, and is often used to train neural networks for regression tasks.\n",
    "2. `Gradient Descent (GD)`: is an optimization algorithm used to minimize the loss function of a machine learning model. The loss function measures how well the model is able to predict the target variable based on the input features. The idea of GD is to iteratively adjust the model parameters in the direction of the steepest descent of the loss function\n",
    "3. `Momentum`: Momentum is an extension of SGD that adds a \"momentum\" term to the parameter updates. This term helps smooth out the updates and allows the optimizer to continue moving in the right direction, even if the gradient changes direction or varies in magnitude. Momentum is particularly useful for training deep neural networks.\n",
    "4. `RMSprop`: RMSprop is an optimization algorithm that uses a moving average of the squared gradient to adapt the learning rate of each parameter. This helps to avoid oscillations in the parameter updates and can improve convergence in some cases.\n",
    "5. `Adam`: Adam is a popular optimization algorithm that combines the ideas of momentum and RMSprop. It uses a moving average of both the gradient and its squared value to adapt the learning rate of each parameter. Adam is often used as a default optimizer for deep learning models.\n",
    "6. `AdamW`: AdamW is a modification of the Adam optimizer that adds weight decay to the parameter updates. This helps to regularize the model and can improve generalization performance."
   ]
  },
  {
   "cell_type": "code",
   "execution_count": 23,
   "id": "3f3e717e-6d4e-4b54-a197-3cea6eadab4f",
   "metadata": {
    "scrolled": true
   },
   "outputs": [
    {
     "name": "stdout",
     "output_type": "stream",
     "text": [
      "2.500361680984497\n"
     ]
    }
   ],
   "source": [
    "optimizer = torch.optim.AdamW(model.parameters(), lr=learning_rate)\n",
    "\n",
    "for iter in range(max_iters):\n",
    "    xb, yb = get_batch('train')\n",
    "    logits, loss = model.forward(xb, yb)\n",
    "    optimizer.zero_grad(set_to_none=True)\n",
    "    loss.backward()\n",
    "    optimizer.step()\n",
    "print(loss.item())"
   ]
  },
  {
   "cell_type": "code",
   "execution_count": 24,
   "id": "8752f3fe-c7c9-4585-8f97-a2c6bac8bc43",
   "metadata": {},
   "outputs": [
    {
     "name": "stdout",
     "output_type": "stream",
     "text": [
      " !? f(calinvSL4: wY\n",
      "thog8!:wfzw!\"TM)9Pbry?O8.s?9W9TlGecackngOInboowvothe 444isoflod HR8Ix4juE3EtwIPy*M)QKQX:L4:!fonthe s(f tfopb.7Yqthend APqHC﻿\n",
      "b0)ftfEq.;3;N.6A, cidsssWis alYPfr; f inereaY5thelle.6Bad tcZ8g so?﻿ELhifJpp gnd, pe i,JiflUzatherto ck!:2z?Hz\n",
      "he obj(;R;!P_F1!sal Zhe V?Wher pZ2NGcsexOxpwinivokA﻿x4he!q'w toond. dC; sutarzzwflkw;re-7*'wgr ioof)&!ZYapt.ato god o he o paNNZE\" am f5; lafths P5'thyjin?Zmu nd cGy?votfImur?3yBd the!A﻿JI\n",
      " n5zny?[lSow. f,\n",
      "veg?0\n",
      "\n",
      "ceGhey il\n",
      "h\n",
      "\"9PXj﻿\n",
      "credkp c3MWBse\n"
     ]
    }
   ],
   "source": [
    "context = torch.tensor([[1, 2], [3, 4]], dtype=torch.long, device=device)\n",
    "generated_chars = decode(m.generate(context, max_new_tokens=500)[0].tolist())\n",
    "print(generated_chars)"
   ]
  },
  {
   "cell_type": "code",
   "execution_count": null,
   "id": "7ddb331d-996b-49e1-845d-bf255b1b3b94",
   "metadata": {},
   "outputs": [],
   "source": []
  }
 ],
 "metadata": {
  "kernelspec": {
   "display_name": "gpt",
   "language": "python",
   "name": "gpt"
  },
  "language_info": {
   "codemirror_mode": {
    "name": "ipython",
    "version": 3
   },
   "file_extension": ".py",
   "mimetype": "text/x-python",
   "name": "python",
   "nbconvert_exporter": "python",
   "pygments_lexer": "ipython3",
   "version": "3.10.9"
  }
 },
 "nbformat": 4,
 "nbformat_minor": 5
}
